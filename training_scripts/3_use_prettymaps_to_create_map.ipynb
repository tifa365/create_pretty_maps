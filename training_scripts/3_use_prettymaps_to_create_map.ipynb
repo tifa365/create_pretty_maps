{
 "cells": [
  {
   "cell_type": "markdown",
   "metadata": {
    "id": "tC3RJT1Rh6JH"
   },
   "source": [
    "# **Explanations for the first use of the Python library prettymaps (non-code)**\n",
    "\n",
    "In this script, we will take a look at the features and functionalities of the [prettymaps](https://github.com/marceloprates/prettymaps) library by marceloprates. In short, the library is used to visually colorize [Open Street Map data](https://www.openstreetmap.org/). The geographic base data is downloaded from Open Street Map and then the properties of this data are individually adjusted, colored, and finally saved as an image (a map).\n",
    "\n",
    "Prettymaps provides a pretty extensive introduction script with explanations of how to start your map making process. Start with this script and see if you can run the code, either in your Google Colab or locally (rather not recommended). After that you can use both this explanation and the official tutorial to build more complicated maps.\n",
    "\n",
    "[![Open In Colab](https://colab.research.google.com/assets/colab-badge.svg)](https://colab.research.google.com/github/marceloprates/prettymaps/blob/master/notebooks/examples.ipynb)\n",
    "\n",
    "** KEEP IN MIND THAT AFTER INSTALLING PRETTYMAPS, YOU NEED RELOAD AND RESTART THE SCRIPT.**\n"
   ]
  },
  {
   "cell_type": "markdown",
   "metadata": {
    "id": "Gjib5PPsr9Nq"
   },
   "source": [
    "# Prerequisites\n",
    "\n",
    "Maps can be created even without extensive programming knowledge. I have tried to make it clear which two lines of code need to be adjusted in order to quickly create your own maps. The map script uses the Python programming language. Open Street Maps is used as the tool to obtain the data for the map. The more one knows about both, the easier it is to customize the map individually. For a deeper understanding of the code, it is worth looking at the Python data structure [dictionary](https://docs.python.org/3/tutorial/datastructures.html#dictionaries) and the structure of [functions](https://docs.python.org/3/tutorial/controlflow.html#defining-functions). Open Street Map works with [keys and values](https://wiki.openstreetmap.org/wiki/Map_features) regarding geo-objects. It is also worth reading into that. However, this knowledge is not absolutely necessary, as mentioned.\n"
   ]
  },
  {
   "cell_type": "markdown",
   "metadata": {
    "id": "Y9GZeqfolrER"
   },
   "source": [
    "# Explaining the main prettymaps-Parameters in detail\n",
    "\n",
    "All programming code always looks cryptic at first. This is quite normal, because programming is a language in its own right that has to be learned first. In tandem with the tutorial on the prettymaps repo you should be able to create your first prettymap.\n"
   ]
  },
  {
   "cell_type": "markdown",
   "metadata": {},
   "source": [
    "1. **Location**: The central point of the map, which can be an address or latitude and longitude coordinates.\n",
    "\n",
    "   - Example Address: `Brandenburger Tor, Pariser Platz, 10117 Berlin`\n",
    "   - Example Coordinates: `(52.516272, 13.377722)`\n",
    "\n",
    "2. **Radius**: Defines how wide the area displayed on the map will be, in meters.\n",
    "\n",
    "   - Example: `radius=500`\n",
    "\n",
    "3. **Layers**: Specifies various map features to include, such as streets, buildings, water bodies, and green spaces.\n",
    "\n",
    "   - **Perimeter**: `{}`\n",
    "   - **Streets**:\n",
    "     - Filter: `[\"highway\"~\"motorway|trunk|primary|secondary|tertiary|residential|service|unclassified|pedestrian|footway\"]`\n",
    "     - Widths: `{ \"motorway\": 5, \"trunk\": 5, \"primary\": 4.5, \"secondary\": 4, \"tertiary\": 3.5, \"residential\": 3, \"service\": 2, \"unclassified\": 2, \"pedestrian\": 2, \"footway\": 1 }`\n",
    "   - **Building**: `{ \"tags\": {\"building\": True, \"landuse\": \"construction\"}, \"union\": False }`\n",
    "   - **Water**: `{ \"tags\": {\"natural\": [\"water\", \"bay\"]} }`\n",
    "   - **Green**: `{ \"tags\": { \"landuse\": \"grass\", \"natural\": [\"island\", \"wood\"], \"leisure\": \"park\" } }`\n",
    "   - **Forest**: `{ \"tags\": {\"landuse\": \"forest\"} }`\n",
    "   - **Parking**: `{ \"tags\": {\"amenity\": \"parking\", \"highway\": \"pedestrian\", \"man_made\": \"pier\"} }`\n",
    "\n",
    "4. **Drawing_kwargs**: Manages the styling for the map elements, including color and line properties.\n",
    "\n",
    "   - **Background**: `{ \"fc\": \"#F2F4CB\", \"ec\": \"#dadbc1\", \"hatch\": \"ooo...\", \"zorder\": -1 }`\n",
    "   - **Perimeter**: `{ \"fc\": \"#F2F4CB\", \"ec\": \"#dadbc1\", \"lw\": 0, \"hatch\": \"ooo...\", \"zorder\": 0 }`\n",
    "   - **Green**: `{ \"fc\": \"#D0F1BF\", \"ec\": \"#2F3737\", \"lw\": 1, \"zorder\": 1 }`\n",
    "   - **Forest**: `{ \"fc\": \"#64B96A\", \"ec\": \"#2F3737\", \"lw\": 1, \"zorder\": 1 }`\n",
    "   - **Water**: `{ \"fc\": \"#a1e3ff\", \"ec\": \"#2F3737\", \"hatch\": \"ooo...\", \"hatch_c\": \"#85c9e6\", \"lw\": 1, \"zorder\": 2 }`\n",
    "   - **Parking**: `{ \"fc\": \"#F2F4CB\", \"ec\": \"#2F3737\", \"lw\": 1, \"zorder\": 3 }`\n",
    "   - **Streets**: `{ \"fc\": \"#2F3737\", \"ec\": \"#475657\", \"alpha\": 1, \"lw\": 0, \"zorder\": 3 }`\n",
    "   - **Building**: `{ \"palette\": [\"#FFC857\", \"#E9724C\", \"#C5283D\"], \"ec\": \"#2F3737\", \"lw\": 0.5, \"zorder\": 4 }`\n",
    "\n",
    "5. **osm_credit**: Styles the credit given to Open Street Map.\n",
    "   - Example: `{ \"color\": \"#2F3737\" }`\n",
    "     \"\"\"\n"
   ]
  },
  {
   "cell_type": "markdown",
   "metadata": {
    "id": "vJmGi-rI8BtA"
   },
   "source": [
    "Here is the English translation of your script:\n",
    "\n",
    "# What is the purpose of each line of code? The order of the functions follows the script\n",
    "\n",
    "`layers = plot()`\n",
    "\n",
    "Creates the plot, or the map. Within this function, various parameters can be set that change the design of the map. Let's go through the parameters, which are separated by a comma:\n",
    "\n",
    "`\"Brandenburger Tor, Pariser Platz, 10117 Berlin\"`\n",
    "\n",
    "Sets the geographical center of the map. All places from Open Street Maps (i.e., the world) can be used, both as addresses and geo-coordinates like `\"(52.516272, 13.377722)\"`.\n",
    "\n",
    "`radius = 1000`\n",
    "\n",
    "Sets the radius of the map from the previously determined location (probably in miles?). To save time when rendering the map, smaller distances can also be used. Example: `radius = 200`\n",
    "\n",
    "`layers = {}`\n",
    "\n",
    "Almost every map consists of several layers that are placed next to and on top of each other. With Open Street Maps, you can imagine that, for example, the highways are added first, then tree regions, then the houses, etc. It is important to know that there are different layers (\"layer\") that can be added to the map.\n",
    "\n",
    "`layers = {'perimeter': {}}`\n",
    "\n",
    "The empty space outside the actual geo-objects, which surrounds the actual map center with houses, trees, etc. (but still belongs to it).\n",
    "\n",
    "`layers = {'streets': {}'`\n",
    "\n",
    "With this dictionary, we choose which types of streets from Open Street Maps are imported at all `'custom_filter':{}` and how wide they should be displayed on the map `'width': {}`.\n",
    "\n",
    "`building': {'tags': {'building': True, 'landuse': 'construction'}, 'union': False}`\n",
    "\n",
    "At any time, additional levels of the map can be added. The semantics of the line may not seem intuitive, but it becomes more understandable after reading the article https://wiki.openstreetmap.org/wiki/Map_features. They follow the schema\n",
    "\n",
    "`'object-description': 'tags':{'OSM-key':'OSM-value'}}`\n",
    "\n",
    "OSM-key and OSM-value can be easily taken from the Open Street Map page.\n",
    "\n",
    "`osm_credit = {'color': '#2F3737'}`\n",
    "\n",
    "This dictionary no longer belongs to the processing step of the geographical objects, but adds a color to the credit on the map, i.e., the Open Street Map attribute or the source reference.\n",
    "\n",
    "`drawing_kwargs = {}`\n",
    "\n",
    "The process of individually coloring the geo-objects takes place here. The colors are controlled via hex values like `'#F2F4CB'`.\n",
    "\n",
    "`plt.savefig('../prints/brandenburger_tor.png')`\n",
    "\n",
    "The function `plt.savefig()` belongs to the Python library matplotlib and only serves to save the map as a graphic in any image format.\n",
    "\n",
    "`files.download('../prints/brandenburger_tor.svg')`\n"
   ]
  },
  {
   "cell_type": "markdown",
   "metadata": {},
   "source": []
  }
 ],
 "metadata": {
  "colab": {
   "collapsed_sections": [],
   "name": "Erklärskipt prettymaps.ipynb",
   "provenance": []
  },
  "interpreter": {
   "hash": "916dbcbb3f70747c44a77c7bcd40155683ae19c65e1c03b4aa3499c5328201f1"
  },
  "kernelspec": {
   "display_name": "Python 3.8.10 64-bit",
   "name": "python3"
  },
  "language_info": {
   "codemirror_mode": {
    "name": "ipython",
    "version": 3
   },
   "file_extension": ".py",
   "mimetype": "text/x-python",
   "name": "python",
   "nbconvert_exporter": "python",
   "pygments_lexer": "ipython3",
   "version": "3.10.12"
  }
 },
 "nbformat": 4,
 "nbformat_minor": 2
}
